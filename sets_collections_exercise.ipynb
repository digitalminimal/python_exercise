{
  "nbformat": 4,
  "nbformat_minor": 0,
  "metadata": {
    "kernelspec": {
      "display_name": "Python 3",
      "language": "python",
      "name": "python3"
    },
    "language_info": {
      "codemirror_mode": {
        "name": "ipython",
        "version": 3
      },
      "file_extension": ".py",
      "mimetype": "text/x-python",
      "name": "python",
      "nbconvert_exporter": "python",
      "pygments_lexer": "ipython3",
      "version": "3.7.9"
    },
    "toc": {
      "base_numbering": 1,
      "nav_menu": {},
      "number_sections": true,
      "sideBar": true,
      "skip_h1_title": false,
      "title_cell": "Table of Contents",
      "title_sidebar": "Contents",
      "toc_cell": false,
      "toc_position": {},
      "toc_section_display": true,
      "toc_window_display": false
    },
    "varInspector": {
      "cols": {
        "lenName": 16,
        "lenType": 16,
        "lenVar": 40
      },
      "kernels_config": {
        "python": {
          "delete_cmd_postfix": "",
          "delete_cmd_prefix": "del ",
          "library": "var_list.py",
          "varRefreshCmd": "print(var_dic_list())"
        },
        "r": {
          "delete_cmd_postfix": ") ",
          "delete_cmd_prefix": "rm(",
          "library": "var_list.r",
          "varRefreshCmd": "cat(var_dic_list()) "
        }
      },
      "types_to_exclude": [
        "module",
        "function",
        "builtin_function_or_method",
        "instance",
        "_Feature"
      ],
      "window_display": false
    },
    "colab": {
      "name": "Copy of sets_collections_exercise-checkpoint.ipynb",
      "provenance": [],
      "toc_visible": true,
      "machine_shape": "hm"
    },
    "accelerator": "GPU"
  },
  "cells": [
    {
      "cell_type": "markdown",
      "metadata": {
        "id": "D-HgCcdptKOY"
      },
      "source": [
        ""
      ]
    },
    {
      "cell_type": "markdown",
      "metadata": {
        "id": "ckuC6-trozk8"
      },
      "source": [
        "# Sets, Collections, & Exception Handling \n",
        "\n",
        "## Sets"
      ]
    },
    {
      "cell_type": "markdown",
      "metadata": {
        "id": "hV9NwIP0ozk-"
      },
      "source": [
        "* create a new empty set\n",
        "* print that set"
      ]
    },
    {
      "cell_type": "code",
      "metadata": {
        "ExecuteTime": {
          "end_time": "2020-04-23T12:46:18.460389Z",
          "start_time": "2020-04-23T12:46:18.455558Z"
        },
        "id": "mrTPHozBozk-"
      },
      "source": [
        "newset = set()"
      ],
      "execution_count": null,
      "outputs": []
    },
    {
      "cell_type": "markdown",
      "metadata": {
        "id": "U7nie8_bozk_"
      },
      "source": [
        "* create a non empty set\n",
        "* print that set"
      ]
    },
    {
      "cell_type": "code",
      "metadata": {
        "ExecuteTime": {
          "end_time": "2020-04-23T12:46:19.054630Z",
          "start_time": "2020-04-23T12:46:19.049150Z"
        },
        "id": "w12k3AY3ozk_",
        "colab": {
          "base_uri": "https://localhost:8080/"
        },
        "outputId": "d3115ed5-cfb3-4e23-b918-02daee0020c7"
      },
      "source": [
        "print(newset)"
      ],
      "execution_count": null,
      "outputs": [
        {
          "output_type": "stream",
          "name": "stdout",
          "text": [
            "set()\n"
          ]
        }
      ]
    },
    {
      "cell_type": "markdown",
      "metadata": {
        "id": "Fi_SFRrHozk_"
      },
      "source": [
        "* iterate over the set and print results"
      ]
    },
    {
      "cell_type": "code",
      "metadata": {
        "ExecuteTime": {
          "end_time": "2020-04-23T12:46:19.563824Z",
          "start_time": "2020-04-23T12:46:19.559855Z"
        },
        "id": "Q6KFXpWoozk_"
      },
      "source": [
        "for each in newset:\n",
        "  print(each)"
      ],
      "execution_count": null,
      "outputs": []
    },
    {
      "cell_type": "markdown",
      "metadata": {
        "id": "ZiZPXCoXozk_"
      },
      "source": [
        "* add one item to the set"
      ]
    },
    {
      "cell_type": "code",
      "metadata": {
        "ExecuteTime": {
          "end_time": "2020-04-23T12:46:20.119320Z",
          "start_time": "2020-04-23T12:46:20.112837Z"
        },
        "id": "dAOk6WixozlA"
      },
      "source": [
        "newset.add(1)"
      ],
      "execution_count": null,
      "outputs": []
    },
    {
      "cell_type": "markdown",
      "metadata": {
        "ExecuteTime": {
          "end_time": "2020-04-23T12:45:07.836265Z",
          "start_time": "2020-04-23T12:45:07.828657Z"
        },
        "id": "-sltWvzaozlA"
      },
      "source": [
        "* add multiple items to the set"
      ]
    },
    {
      "cell_type": "code",
      "metadata": {
        "ExecuteTime": {
          "end_time": "2020-04-23T12:46:20.661141Z",
          "start_time": "2020-04-23T12:46:20.650715Z"
        },
        "id": "AFp343MEozlA"
      },
      "source": [
        "newset.update([2,3,4,\"allo\",\"allo2\"])\n"
      ],
      "execution_count": null,
      "outputs": []
    },
    {
      "cell_type": "code",
      "metadata": {
        "id": "oSYkLm6kp1uE",
        "colab": {
          "base_uri": "https://localhost:8080/"
        },
        "outputId": "18b9dd47-364c-494f-d9ae-3f706096b328"
      },
      "source": [
        "print(newset)"
      ],
      "execution_count": null,
      "outputs": [
        {
          "output_type": "stream",
          "name": "stdout",
          "text": [
            "{1, 2, 3, 4, 'allo2', 'allo'}\n"
          ]
        }
      ]
    },
    {
      "cell_type": "markdown",
      "metadata": {
        "ExecuteTime": {
          "end_time": "2020-04-23T12:45:14.108185Z",
          "start_time": "2020-04-23T12:45:14.102482Z"
        },
        "id": "KL5HjGRTozlA"
      },
      "source": [
        "* remove an item from a set if it is present in the set"
      ]
    },
    {
      "cell_type": "code",
      "metadata": {
        "ExecuteTime": {
          "end_time": "2020-04-23T12:46:21.067703Z",
          "start_time": "2020-04-23T12:46:21.061624Z"
        },
        "id": "S-sXq9ZKozlA"
      },
      "source": [
        "if \"allo2\" in newset:\n",
        "  newset.remove(\"allo2\")"
      ],
      "execution_count": null,
      "outputs": []
    },
    {
      "cell_type": "code",
      "metadata": {
        "id": "3nfl4yBKqLuP",
        "colab": {
          "base_uri": "https://localhost:8080/"
        },
        "outputId": "f2cea4ed-b8db-44f4-82c4-7b7daf93453f"
      },
      "source": [
        "print(newset)"
      ],
      "execution_count": null,
      "outputs": [
        {
          "output_type": "stream",
          "name": "stdout",
          "text": [
            "{2, 3, 4, 'allo2', 'allo'}\n"
          ]
        }
      ]
    },
    {
      "cell_type": "markdown",
      "metadata": {
        "id": "_DEto4KeozlA"
      },
      "source": [
        "* find maximum and minimum values of the set"
      ]
    },
    {
      "cell_type": "code",
      "metadata": {
        "ExecuteTime": {
          "end_time": "2020-04-23T12:46:21.801693Z",
          "start_time": "2020-04-23T12:46:21.794587Z"
        },
        "id": "IABFLOqvozlA",
        "colab": {
          "base_uri": "https://localhost:8080/"
        },
        "outputId": "2e1f5b32-05f1-44bc-b412-31d94ae8df99"
      },
      "source": [
        "print(max(newset))\n",
        "print(min(newset))"
      ],
      "execution_count": null,
      "outputs": [
        {
          "output_type": "stream",
          "name": "stdout",
          "text": [
            "4\n",
            "2\n"
          ]
        }
      ]
    },
    {
      "cell_type": "markdown",
      "metadata": {
        "id": "lj29o2HVozlA"
      },
      "source": [
        "* print the length of the set"
      ]
    },
    {
      "cell_type": "code",
      "metadata": {
        "ExecuteTime": {
          "end_time": "2020-04-23T12:46:22.281394Z",
          "start_time": "2020-04-23T12:46:22.275978Z"
        },
        "id": "Jc9DMwe9ozlA",
        "colab": {
          "base_uri": "https://localhost:8080/"
        },
        "outputId": "4adef349-ff22-4ae2-af7e-e1f8c39d82eb"
      },
      "source": [
        "print(len(newset))"
      ],
      "execution_count": null,
      "outputs": [
        {
          "output_type": "stream",
          "name": "stdout",
          "text": [
            "3\n"
          ]
        }
      ]
    },
    {
      "cell_type": "code",
      "metadata": {
        "ExecuteTime": {
          "end_time": "2020-04-23T12:46:22.783616Z",
          "start_time": "2020-04-23T12:46:22.779193Z"
        },
        "id": "n37q9iyPozlB"
      },
      "source": [
        ""
      ],
      "execution_count": null,
      "outputs": []
    },
    {
      "cell_type": "markdown",
      "metadata": {
        "id": "Gg7c-J-lozlB"
      },
      "source": [
        "* create an intersection of x and y"
      ]
    },
    {
      "cell_type": "code",
      "metadata": {
        "ExecuteTime": {
          "end_time": "2020-04-23T12:46:23.277505Z",
          "start_time": "2020-04-23T12:46:23.270998Z"
        },
        "id": "aRcSiHJmozlB",
        "colab": {
          "base_uri": "https://localhost:8080/"
        },
        "outputId": "709a562a-f9d7-4b1a-d76e-47d1ce026a23"
      },
      "source": [
        "newset2 = newset\n",
        "print(newset2 & newset)"
      ],
      "execution_count": null,
      "outputs": [
        {
          "output_type": "stream",
          "name": "stdout",
          "text": [
            "{2, 3, 4}\n"
          ]
        }
      ]
    },
    {
      "cell_type": "code",
      "metadata": {
        "id": "frh4acR5rECI",
        "colab": {
          "base_uri": "https://localhost:8080/"
        },
        "outputId": "f21d72aa-45ec-4c08-e7a3-7cfad7f0886a"
      },
      "source": [
        "print(newset2)\n",
        "newset2.update([25,1,2,3,4,5,6,7,7])"
      ],
      "execution_count": null,
      "outputs": [
        {
          "output_type": "stream",
          "name": "stdout",
          "text": [
            "{2, 3, 4}\n"
          ]
        }
      ]
    },
    {
      "cell_type": "markdown",
      "metadata": {
        "id": "ctqFrFYGozlB"
      },
      "source": [
        "* create an union of x and y"
      ]
    },
    {
      "cell_type": "code",
      "metadata": {
        "ExecuteTime": {
          "end_time": "2020-04-23T12:46:23.716826Z",
          "start_time": "2020-04-23T12:46:23.709614Z"
        },
        "id": "CwKUgFECozlB",
        "colab": {
          "base_uri": "https://localhost:8080/"
        },
        "outputId": "063e31d5-d6cc-4c7d-b622-b88fc68668b6"
      },
      "source": [
        "print(newset2|newset)"
      ],
      "execution_count": null,
      "outputs": [
        {
          "output_type": "stream",
          "name": "stdout",
          "text": [
            "{1, 2, 3, 4, 5, 6, 7, 25}\n"
          ]
        }
      ]
    },
    {
      "cell_type": "markdown",
      "metadata": {
        "id": "Hts485haozlB"
      },
      "source": [
        "* create difference between x and y"
      ]
    },
    {
      "cell_type": "code",
      "metadata": {
        "ExecuteTime": {
          "end_time": "2020-04-23T12:46:24.122128Z",
          "start_time": "2020-04-23T12:46:24.109428Z"
        },
        "id": "Y_PdRYO9ozlB",
        "colab": {
          "base_uri": "https://localhost:8080/"
        },
        "outputId": "47d1fcba-b5f3-4664-c990-8f139e7b193e"
      },
      "source": [
        "print(newset-newset2)"
      ],
      "execution_count": null,
      "outputs": [
        {
          "output_type": "stream",
          "name": "stdout",
          "text": [
            "set()\n"
          ]
        }
      ]
    },
    {
      "cell_type": "markdown",
      "metadata": {
        "ExecuteTime": {
          "end_time": "2020-03-11T15:45:04.754557Z",
          "start_time": "2020-03-11T15:45:04.734426Z"
        },
        "id": "ccW2jO1hozlB"
      },
      "source": [
        "---------------\n",
        "## Collections"
      ]
    },
    {
      "cell_type": "markdown",
      "metadata": {
        "id": "4V0qt-rLozlC"
      },
      "source": [
        "* for each word in a sentence count the occurence\n",
        "* **sentence:** *black cat jumped over white cat*"
      ]
    },
    {
      "cell_type": "code",
      "metadata": {
        "ExecuteTime": {
          "end_time": "2020-04-23T12:46:24.725222Z",
          "start_time": "2020-04-23T12:46:24.718367Z"
        },
        "id": "yZl9-0vZozlC"
      },
      "source": [
        ""
      ],
      "execution_count": null,
      "outputs": []
    },
    {
      "cell_type": "markdown",
      "metadata": {
        "id": "OWH205gIozlC"
      },
      "source": [
        "* print the most common words"
      ]
    },
    {
      "cell_type": "code",
      "metadata": {
        "ExecuteTime": {
          "end_time": "2020-04-23T12:46:25.137822Z",
          "start_time": "2020-04-23T12:46:25.125541Z"
        },
        "id": "96I84gwPozlC"
      },
      "source": [
        ""
      ],
      "execution_count": null,
      "outputs": []
    },
    {
      "cell_type": "markdown",
      "metadata": {
        "id": "TMI0QtYpozlC"
      },
      "source": [
        "* count the occurences of words in the same sentence but now use **defaultdict**"
      ]
    },
    {
      "cell_type": "code",
      "metadata": {
        "ExecuteTime": {
          "end_time": "2020-04-23T12:46:25.584924Z",
          "start_time": "2020-04-23T12:46:25.576870Z"
        },
        "id": "XGq8yFLiozlC"
      },
      "source": [
        ""
      ],
      "execution_count": null,
      "outputs": []
    },
    {
      "cell_type": "markdown",
      "metadata": {
        "ExecuteTime": {
          "end_time": "2020-04-23T12:42:40.229428Z",
          "start_time": "2020-04-23T12:42:40.222302Z"
        },
        "id": "04xOGEh6ozlC"
      },
      "source": [
        "* create deque from list set used in first exercise"
      ]
    },
    {
      "cell_type": "code",
      "metadata": {
        "ExecuteTime": {
          "end_time": "2020-04-23T12:46:26.011195Z",
          "start_time": "2020-04-23T12:46:26.007688Z"
        },
        "id": "NBXbSEmRozlC"
      },
      "source": [
        ""
      ],
      "execution_count": null,
      "outputs": []
    },
    {
      "cell_type": "markdown",
      "metadata": {
        "id": "21V_gifgozlD"
      },
      "source": [
        "* append number 10 to deque"
      ]
    },
    {
      "cell_type": "code",
      "metadata": {
        "ExecuteTime": {
          "end_time": "2020-04-23T12:46:26.406289Z",
          "start_time": "2020-04-23T12:46:26.397483Z"
        },
        "id": "mw92BcLHozlD"
      },
      "source": [
        ""
      ],
      "execution_count": null,
      "outputs": []
    },
    {
      "cell_type": "markdown",
      "metadata": {
        "id": "GMHEvy5lozlD"
      },
      "source": [
        "* remove element from the right end from deque"
      ]
    },
    {
      "cell_type": "code",
      "metadata": {
        "ExecuteTime": {
          "end_time": "2020-04-23T12:46:26.788077Z",
          "start_time": "2020-04-23T12:46:26.776926Z"
        },
        "id": "jfM8uBImozlE"
      },
      "source": [
        ""
      ],
      "execution_count": null,
      "outputs": []
    },
    {
      "cell_type": "markdown",
      "metadata": {
        "id": "xwThUB9UozlE"
      },
      "source": [
        "* remove element from the left end from deque"
      ]
    },
    {
      "cell_type": "code",
      "metadata": {
        "ExecuteTime": {
          "end_time": "2020-04-23T12:46:27.379076Z",
          "start_time": "2020-04-23T12:46:27.373076Z"
        },
        "id": "EAnmsi-0ozlE"
      },
      "source": [
        ""
      ],
      "execution_count": null,
      "outputs": []
    },
    {
      "cell_type": "markdown",
      "metadata": {
        "id": "_X4JmFExozlE"
      },
      "source": [
        "* delete all elements from deque"
      ]
    },
    {
      "cell_type": "code",
      "metadata": {
        "ExecuteTime": {
          "end_time": "2020-04-23T12:46:27.788235Z",
          "start_time": "2020-04-23T12:46:27.778162Z"
        },
        "id": "p9Yd_gKHozlE"
      },
      "source": [
        ""
      ],
      "execution_count": null,
      "outputs": []
    },
    {
      "cell_type": "markdown",
      "metadata": {
        "id": "X8OC6nm7ozlE"
      },
      "source": [
        "* create named tuple (people) with name and surname as position names"
      ]
    },
    {
      "cell_type": "code",
      "metadata": {
        "ExecuteTime": {
          "end_time": "2020-04-23T12:46:28.173030Z",
          "start_time": "2020-04-23T12:46:28.165072Z"
        },
        "id": "EswuHcw9ozlF"
      },
      "source": [
        ""
      ],
      "execution_count": null,
      "outputs": []
    },
    {
      "cell_type": "markdown",
      "metadata": {
        "id": "GKDOT7WMozlF"
      },
      "source": [
        "* print name and surname"
      ]
    },
    {
      "cell_type": "code",
      "metadata": {
        "id": "1iZiU02FozlF"
      },
      "source": [
        ""
      ],
      "execution_count": null,
      "outputs": []
    },
    {
      "cell_type": "code",
      "metadata": {
        "ExecuteTime": {
          "end_time": "2020-04-23T12:46:28.538932Z",
          "start_time": "2020-04-23T12:46:28.535095Z"
        },
        "id": "pg10WygOozlF"
      },
      "source": [
        ""
      ],
      "execution_count": null,
      "outputs": []
    },
    {
      "cell_type": "markdown",
      "metadata": {
        "id": "LvEF7qWCozlF"
      },
      "source": [
        "_________________\n",
        "## Exception handling\n",
        "Now, let's practice with **errors and exception handling**\n",
        "\n",
        "* Transform all string elements from a list to upper, if the element is not a string don't transform it.\n",
        "* Use a try & except block without using the 'if' statement."
      ]
    },
    {
      "cell_type": "code",
      "metadata": {
        "ExecuteTime": {
          "end_time": "2020-04-23T12:46:29.120210Z",
          "start_time": "2020-04-23T12:46:29.109343Z"
        },
        "id": "P_NmpoXZozlG"
      },
      "source": [
        ""
      ],
      "execution_count": null,
      "outputs": []
    },
    {
      "cell_type": "code",
      "metadata": {
        "id": "SlkvO7Z_ozlG"
      },
      "source": [
        ""
      ],
      "execution_count": null,
      "outputs": []
    },
    {
      "cell_type": "code",
      "metadata": {
        "id": "LcohI31OozlG"
      },
      "source": [
        ""
      ],
      "execution_count": null,
      "outputs": []
    },
    {
      "cell_type": "markdown",
      "metadata": {
        "id": "YvbtpJJaozlG"
      },
      "source": [
        "### We have created a function below:\n",
        "\n",
        "Luke Skywalker has family and friends. Help him remind himself the type of relation he has with his family and friends. \n",
        "\n",
        "Given a string with a name, return the relation of that person to Luke.\n",
        "\n",
        "**Person --> Relation**\n",
        "- Darth Vader --> father\n",
        "- Leia --> sister\n",
        "- Han --> brother in law\n",
        "- R2D2 --> droid\n",
        "\n",
        "#### Examples\n",
        "\n",
        "> relation_to_luke(\"Darth Vader\") ➞ \"Luke, I am your father.\"\n",
        ">\n",
        "> relation_to_luke(\"Leia\") ➞ \"Luke, I am your sister.\"\n",
        ">\n",
        "> relation_to_luke(\"Han\") ➞ \"Luke, I am your brother in law.\""
      ]
    },
    {
      "cell_type": "code",
      "metadata": {
        "id": "fSFv75jlozlG"
      },
      "source": [
        "def relation_to_luke(text):\n",
        "    _dict = []\n",
        "    _dict[\"Darth Vader\"] = \"father\"\n",
        "    _dict[\"Leia\"] = \"sister\"\n",
        "    _dict[\"Ham\"] = \"brother in law\"\n",
        "    _dict[\"R2D2\"] = \"droid\"\n",
        "    print(f\"Luke, I am your {+ _dict[text]}\")"
      ],
      "execution_count": null,
      "outputs": []
    },
    {
      "cell_type": "markdown",
      "metadata": {
        "id": "kgz0D5buozlG"
      },
      "source": [
        "#### Task I\n",
        "Fix errors in the function above so we can run following code"
      ]
    },
    {
      "cell_type": "code",
      "metadata": {
        "id": "Arcq_IVAozlH"
      },
      "source": [
        "relation_to_luke(\"Darth Vader\")\n",
        "relation_to_luke(\"Leia\")\n",
        "relation_to_luke(\"Han\")\n",
        "relation_to_luke(\"R2D2\")"
      ],
      "execution_count": null,
      "outputs": []
    },
    {
      "cell_type": "code",
      "metadata": {
        "id": "mD6R1gsSozlH"
      },
      "source": [
        ""
      ],
      "execution_count": null,
      "outputs": []
    },
    {
      "cell_type": "markdown",
      "metadata": {
        "id": "SuLujZ4eozlH"
      },
      "source": [
        "#### Task II\n",
        "Use exception handling so we can run the function with any string. In this case, the function will return following:\n",
        "\n",
        "**relation_to_luke(\"aaaa\") ➞ \"aaaa is not in the relation with Luke\"**\n",
        "\n",
        "**Note:** Do **Not** use an **if** statement for this"
      ]
    },
    {
      "cell_type": "code",
      "metadata": {
        "id": "qK-_FvUYozlH"
      },
      "source": [
        ""
      ],
      "execution_count": null,
      "outputs": []
    }
  ]
}