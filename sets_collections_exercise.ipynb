{
  "nbformat": 4,
  "nbformat_minor": 0,
  "metadata": {
    "kernelspec": {
      "display_name": "Python 3",
      "language": "python",
      "name": "python3"
    },
    "language_info": {
      "codemirror_mode": {
        "name": "ipython",
        "version": 3
      },
      "file_extension": ".py",
      "mimetype": "text/x-python",
      "name": "python",
      "nbconvert_exporter": "python",
      "pygments_lexer": "ipython3",
      "version": "3.7.9"
    },
    "toc": {
      "base_numbering": 1,
      "nav_menu": {},
      "number_sections": true,
      "sideBar": true,
      "skip_h1_title": false,
      "title_cell": "Table of Contents",
      "title_sidebar": "Contents",
      "toc_cell": false,
      "toc_position": {},
      "toc_section_display": true,
      "toc_window_display": false
    },
    "varInspector": {
      "cols": {
        "lenName": 16,
        "lenType": 16,
        "lenVar": 40
      },
      "kernels_config": {
        "python": {
          "delete_cmd_postfix": "",
          "delete_cmd_prefix": "del ",
          "library": "var_list.py",
          "varRefreshCmd": "print(var_dic_list())"
        },
        "r": {
          "delete_cmd_postfix": ") ",
          "delete_cmd_prefix": "rm(",
          "library": "var_list.r",
          "varRefreshCmd": "cat(var_dic_list()) "
        }
      },
      "types_to_exclude": [
        "module",
        "function",
        "builtin_function_or_method",
        "instance",
        "_Feature"
      ],
      "window_display": false
    },
    "colab": {
      "name": "Copy of sets_collections_exercise-checkpoint.ipynb",
      "provenance": [],
      "toc_visible": true,
      "machine_shape": "hm"
    },
    "accelerator": "GPU"
  },
  "cells": [
    {
      "cell_type": "markdown",
      "metadata": {
        "id": "D-HgCcdptKOY"
      },
      "source": [
        ""
      ]
    },
    {
      "cell_type": "markdown",
      "metadata": {
        "id": "ckuC6-trozk8"
      },
      "source": [
        "# Sets, Collections, & Exception Handling \n",
        "\n",
        "## Sets"
      ]
    },
    {
      "cell_type": "markdown",
      "metadata": {
        "id": "hV9NwIP0ozk-"
      },
      "source": [
        "* create a new empty set\n",
        "* print that set"
      ]
    },
    {
      "cell_type": "code",
      "metadata": {
        "ExecuteTime": {
          "end_time": "2020-04-23T12:46:18.460389Z",
          "start_time": "2020-04-23T12:46:18.455558Z"
        },
        "id": "mrTPHozBozk-"
      },
      "source": [
        "newset = set()"
      ],
      "execution_count": 17,
      "outputs": []
    },
    {
      "cell_type": "markdown",
      "metadata": {
        "id": "U7nie8_bozk_"
      },
      "source": [
        "* create a non empty set\n",
        "* print that set"
      ]
    },
    {
      "cell_type": "code",
      "metadata": {
        "ExecuteTime": {
          "end_time": "2020-04-23T12:46:19.054630Z",
          "start_time": "2020-04-23T12:46:19.049150Z"
        },
        "id": "w12k3AY3ozk_",
        "colab": {
          "base_uri": "https://localhost:8080/"
        },
        "outputId": "91be940f-de26-4da4-e20a-26dbd7d22264"
      },
      "source": [
        "newset = set([\"a\", \"b\", \"c\"])\n",
        "print(newset)"
      ],
      "execution_count": 18,
      "outputs": [
        {
          "output_type": "stream",
          "name": "stdout",
          "text": [
            "{'c', 'b', 'a'}\n"
          ]
        }
      ]
    },
    {
      "cell_type": "markdown",
      "metadata": {
        "id": "Fi_SFRrHozk_"
      },
      "source": [
        "* iterate over the set and print results"
      ]
    },
    {
      "cell_type": "code",
      "metadata": {
        "ExecuteTime": {
          "end_time": "2020-04-23T12:46:19.563824Z",
          "start_time": "2020-04-23T12:46:19.559855Z"
        },
        "id": "Q6KFXpWoozk_",
        "outputId": "3d417895-c1e4-4d93-c3c5-0aed9ff05d1d",
        "colab": {
          "base_uri": "https://localhost:8080/"
        }
      },
      "source": [
        "for each in newset:\n",
        "  print(each)"
      ],
      "execution_count": 19,
      "outputs": [
        {
          "output_type": "stream",
          "name": "stdout",
          "text": [
            "c\n",
            "b\n",
            "a\n"
          ]
        }
      ]
    },
    {
      "cell_type": "markdown",
      "metadata": {
        "id": "ZiZPXCoXozk_"
      },
      "source": [
        "* add one item to the set"
      ]
    },
    {
      "cell_type": "code",
      "metadata": {
        "ExecuteTime": {
          "end_time": "2020-04-23T12:46:20.119320Z",
          "start_time": "2020-04-23T12:46:20.112837Z"
        },
        "id": "dAOk6WixozlA"
      },
      "source": [
        "newset.add('d')"
      ],
      "execution_count": 21,
      "outputs": []
    },
    {
      "cell_type": "markdown",
      "metadata": {
        "ExecuteTime": {
          "end_time": "2020-04-23T12:45:07.836265Z",
          "start_time": "2020-04-23T12:45:07.828657Z"
        },
        "id": "-sltWvzaozlA"
      },
      "source": [
        "* add multiple items to the set"
      ]
    },
    {
      "cell_type": "code",
      "metadata": {
        "ExecuteTime": {
          "end_time": "2020-04-23T12:46:20.661141Z",
          "start_time": "2020-04-23T12:46:20.650715Z"
        },
        "id": "AFp343MEozlA"
      },
      "source": [
        "newset.update(['e','f','g',\"allo\",\"allo2\"])\n"
      ],
      "execution_count": 22,
      "outputs": []
    },
    {
      "cell_type": "code",
      "metadata": {
        "id": "oSYkLm6kp1uE",
        "colab": {
          "base_uri": "https://localhost:8080/"
        },
        "outputId": "52b8775c-425f-4761-aed1-4f24da8d759e"
      },
      "source": [
        "print(newset)"
      ],
      "execution_count": 23,
      "outputs": [
        {
          "output_type": "stream",
          "name": "stdout",
          "text": [
            "{'d', 'allo2', 'a', 'b', 'e', 'g', 'f', 'c', 'allo'}\n"
          ]
        }
      ]
    },
    {
      "cell_type": "markdown",
      "metadata": {
        "ExecuteTime": {
          "end_time": "2020-04-23T12:45:14.108185Z",
          "start_time": "2020-04-23T12:45:14.102482Z"
        },
        "id": "KL5HjGRTozlA"
      },
      "source": [
        "* remove an item from a set if it is present in the set"
      ]
    },
    {
      "cell_type": "code",
      "metadata": {
        "ExecuteTime": {
          "end_time": "2020-04-23T12:46:21.067703Z",
          "start_time": "2020-04-23T12:46:21.061624Z"
        },
        "id": "S-sXq9ZKozlA"
      },
      "source": [
        "if \"allo2\" in newset:\n",
        "  newset.remove(\"allo2\")"
      ],
      "execution_count": 24,
      "outputs": []
    },
    {
      "cell_type": "code",
      "metadata": {
        "id": "3nfl4yBKqLuP",
        "colab": {
          "base_uri": "https://localhost:8080/"
        },
        "outputId": "acdda85c-b186-4cdb-a0a7-4d559ee2922d"
      },
      "source": [
        "print(newset)"
      ],
      "execution_count": 25,
      "outputs": [
        {
          "output_type": "stream",
          "name": "stdout",
          "text": [
            "{'d', 'a', 'b', 'e', 'g', 'f', 'c', 'allo'}\n"
          ]
        }
      ]
    },
    {
      "cell_type": "markdown",
      "metadata": {
        "id": "_DEto4KeozlA"
      },
      "source": [
        "* find maximum and minimum values of the set"
      ]
    },
    {
      "cell_type": "code",
      "metadata": {
        "ExecuteTime": {
          "end_time": "2020-04-23T12:46:21.801693Z",
          "start_time": "2020-04-23T12:46:21.794587Z"
        },
        "id": "IABFLOqvozlA",
        "colab": {
          "base_uri": "https://localhost:8080/"
        },
        "outputId": "e0fe09e1-4998-4ce9-f24c-b6e4101d48a8"
      },
      "source": [
        "print(max(newset))\n",
        "print(min(newset))"
      ],
      "execution_count": 26,
      "outputs": [
        {
          "output_type": "stream",
          "name": "stdout",
          "text": [
            "g\n",
            "a\n"
          ]
        }
      ]
    },
    {
      "cell_type": "markdown",
      "metadata": {
        "id": "lj29o2HVozlA"
      },
      "source": [
        "* print the length of the set"
      ]
    },
    {
      "cell_type": "code",
      "metadata": {
        "ExecuteTime": {
          "end_time": "2020-04-23T12:46:22.281394Z",
          "start_time": "2020-04-23T12:46:22.275978Z"
        },
        "id": "Jc9DMwe9ozlA",
        "colab": {
          "base_uri": "https://localhost:8080/"
        },
        "outputId": "596c2d82-e08b-4c6b-f78e-180e32177986"
      },
      "source": [
        "print(len(newset))"
      ],
      "execution_count": 27,
      "outputs": [
        {
          "output_type": "stream",
          "name": "stdout",
          "text": [
            "8\n"
          ]
        }
      ]
    },
    {
      "cell_type": "code",
      "metadata": {
        "ExecuteTime": {
          "end_time": "2020-04-23T12:46:22.783616Z",
          "start_time": "2020-04-23T12:46:22.779193Z"
        },
        "id": "n37q9iyPozlB"
      },
      "source": [
        ""
      ],
      "execution_count": 27,
      "outputs": []
    },
    {
      "cell_type": "markdown",
      "metadata": {
        "id": "Gg7c-J-lozlB"
      },
      "source": [
        "* create an intersection of x and y"
      ]
    },
    {
      "cell_type": "code",
      "metadata": {
        "ExecuteTime": {
          "end_time": "2020-04-23T12:46:23.277505Z",
          "start_time": "2020-04-23T12:46:23.270998Z"
        },
        "id": "aRcSiHJmozlB",
        "colab": {
          "base_uri": "https://localhost:8080/"
        },
        "outputId": "64d1ee6b-8586-42ca-c360-e0cd7450f0f7"
      },
      "source": [
        "newset2 = newset\n",
        "print(newset2 & newset)"
      ],
      "execution_count": 28,
      "outputs": [
        {
          "output_type": "stream",
          "name": "stdout",
          "text": [
            "{'d', 'a', 'b', 'e', 'g', 'f', 'c', 'allo'}\n"
          ]
        }
      ]
    },
    {
      "cell_type": "code",
      "metadata": {
        "id": "frh4acR5rECI",
        "colab": {
          "base_uri": "https://localhost:8080/"
        },
        "outputId": "20ad2b67-4af7-4631-9497-9ad5ab5dc23f"
      },
      "source": [
        "print(newset2)\n",
        "newset2.update([25,1,2,3,4,5,6,7,7])"
      ],
      "execution_count": 29,
      "outputs": [
        {
          "output_type": "stream",
          "name": "stdout",
          "text": [
            "{'d', 'a', 'b', 'e', 'g', 'f', 'c', 'allo'}\n"
          ]
        }
      ]
    },
    {
      "cell_type": "markdown",
      "metadata": {
        "id": "ctqFrFYGozlB"
      },
      "source": [
        "* create an union of x and y"
      ]
    },
    {
      "cell_type": "code",
      "metadata": {
        "ExecuteTime": {
          "end_time": "2020-04-23T12:46:23.716826Z",
          "start_time": "2020-04-23T12:46:23.709614Z"
        },
        "id": "CwKUgFECozlB",
        "colab": {
          "base_uri": "https://localhost:8080/"
        },
        "outputId": "d3a188a0-be90-4f5c-815e-0c096a5ed3e2"
      },
      "source": [
        "print(newset2|newset)"
      ],
      "execution_count": 30,
      "outputs": [
        {
          "output_type": "stream",
          "name": "stdout",
          "text": [
            "{'d', 1, 2, 3, 4, 5, 6, 7, 'g', 'f', 'c', 'allo', 25, 'a', 'b', 'e'}\n"
          ]
        }
      ]
    },
    {
      "cell_type": "markdown",
      "metadata": {
        "id": "Hts485haozlB"
      },
      "source": [
        "* create difference between x and y"
      ]
    },
    {
      "cell_type": "code",
      "metadata": {
        "ExecuteTime": {
          "end_time": "2020-04-23T12:46:24.122128Z",
          "start_time": "2020-04-23T12:46:24.109428Z"
        },
        "id": "Y_PdRYO9ozlB",
        "colab": {
          "base_uri": "https://localhost:8080/"
        },
        "outputId": "02b2f78b-1a36-48ad-d253-fdb6474ff547"
      },
      "source": [
        "print(newset-newset2)"
      ],
      "execution_count": 31,
      "outputs": [
        {
          "output_type": "stream",
          "name": "stdout",
          "text": [
            "set()\n"
          ]
        }
      ]
    },
    {
      "cell_type": "markdown",
      "metadata": {
        "ExecuteTime": {
          "end_time": "2020-03-11T15:45:04.754557Z",
          "start_time": "2020-03-11T15:45:04.734426Z"
        },
        "id": "ccW2jO1hozlB"
      },
      "source": [
        "---------------\n",
        "## Collections"
      ]
    },
    {
      "cell_type": "markdown",
      "metadata": {
        "id": "4V0qt-rLozlC"
      },
      "source": [
        "* for each word in a sentence count the occurence\n",
        "* **sentence:** *black cat jumped over white cat*"
      ]
    },
    {
      "cell_type": "code",
      "metadata": {
        "ExecuteTime": {
          "end_time": "2020-04-23T12:46:24.725222Z",
          "start_time": "2020-04-23T12:46:24.718367Z"
        },
        "id": "yZl9-0vZozlC",
        "outputId": "3f5436d0-3bf3-48ee-bfeb-3a025e8603cc",
        "colab": {
          "base_uri": "https://localhost:8080/"
        }
      },
      "source": [
        "from collections import Counter\n",
        "s = \"black cat jumped over white cat\"\n",
        "words = s.split()\n",
        "Counter(words)"
      ],
      "execution_count": 33,
      "outputs": [
        {
          "output_type": "execute_result",
          "data": {
            "text/plain": [
              "Counter({'black': 1, 'cat': 2, 'jumped': 1, 'over': 1, 'white': 1})"
            ]
          },
          "metadata": {},
          "execution_count": 33
        }
      ]
    },
    {
      "cell_type": "markdown",
      "metadata": {
        "id": "OWH205gIozlC"
      },
      "source": [
        "* print the most common words"
      ]
    },
    {
      "cell_type": "code",
      "metadata": {
        "ExecuteTime": {
          "end_time": "2020-04-23T12:46:25.137822Z",
          "start_time": "2020-04-23T12:46:25.125541Z"
        },
        "id": "96I84gwPozlC",
        "outputId": "2049867c-d1ea-4c2b-d939-795ecdfbd5d4",
        "colab": {
          "base_uri": "https://localhost:8080/"
        }
      },
      "source": [
        "d = Counter(words).most_common()\n",
        "d"
      ],
      "execution_count": 34,
      "outputs": [
        {
          "output_type": "execute_result",
          "data": {
            "text/plain": [
              "[('cat', 2), ('black', 1), ('jumped', 1), ('over', 1), ('white', 1)]"
            ]
          },
          "metadata": {},
          "execution_count": 34
        }
      ]
    },
    {
      "cell_type": "markdown",
      "metadata": {
        "id": "TMI0QtYpozlC"
      },
      "source": [
        "* count the occurences of words in the same sentence but now use **defaultdict**"
      ]
    },
    {
      "cell_type": "code",
      "metadata": {
        "ExecuteTime": {
          "end_time": "2020-04-23T12:46:25.584924Z",
          "start_time": "2020-04-23T12:46:25.576870Z"
        },
        "id": "XGq8yFLiozlC",
        "outputId": "51eb80a3-a2ff-4ef3-8676-021db2c7e162",
        "colab": {
          "base_uri": "https://localhost:8080/"
        }
      },
      "source": [
        "from collections import OrderedDict, defaultdict\n",
        "s3 = \"black cat jumped over white cat\"\n",
        "words2 = s.split()\n",
        "od = OrderedDict(Counter(words))\n",
        "od2 = OrderedDict(sorted(od.items(), key=lambda t: t[1]))\n",
        "od2"
      ],
      "execution_count": 35,
      "outputs": [
        {
          "output_type": "execute_result",
          "data": {
            "text/plain": [
              "OrderedDict([('black', 1),\n",
              "             ('jumped', 1),\n",
              "             ('over', 1),\n",
              "             ('white', 1),\n",
              "             ('cat', 2)])"
            ]
          },
          "metadata": {},
          "execution_count": 35
        }
      ]
    },
    {
      "cell_type": "markdown",
      "metadata": {
        "ExecuteTime": {
          "end_time": "2020-04-23T12:42:40.229428Z",
          "start_time": "2020-04-23T12:42:40.222302Z"
        },
        "id": "04xOGEh6ozlC"
      },
      "source": [
        "* create deque from list set used in first exercise"
      ]
    },
    {
      "cell_type": "code",
      "metadata": {
        "ExecuteTime": {
          "end_time": "2020-04-23T12:46:26.011195Z",
          "start_time": "2020-04-23T12:46:26.007688Z"
        },
        "id": "NBXbSEmRozlC",
        "outputId": "0a609374-03d4-4826-f826-034bb3557f0c",
        "colab": {
          "base_uri": "https://localhost:8080/"
        }
      },
      "source": [
        "from collections import deque\n",
        "deq = deque(s)\n",
        "deq"
      ],
      "execution_count": 37,
      "outputs": [
        {
          "output_type": "execute_result",
          "data": {
            "text/plain": [
              "deque(['b',\n",
              "       'l',\n",
              "       'a',\n",
              "       'c',\n",
              "       'k',\n",
              "       ' ',\n",
              "       'c',\n",
              "       'a',\n",
              "       't',\n",
              "       ' ',\n",
              "       'j',\n",
              "       'u',\n",
              "       'm',\n",
              "       'p',\n",
              "       'e',\n",
              "       'd',\n",
              "       ' ',\n",
              "       'o',\n",
              "       'v',\n",
              "       'e',\n",
              "       'r',\n",
              "       ' ',\n",
              "       'w',\n",
              "       'h',\n",
              "       'i',\n",
              "       't',\n",
              "       'e',\n",
              "       ' ',\n",
              "       'c',\n",
              "       'a',\n",
              "       't'])"
            ]
          },
          "metadata": {},
          "execution_count": 37
        }
      ]
    },
    {
      "cell_type": "markdown",
      "metadata": {
        "id": "21V_gifgozlD"
      },
      "source": [
        "* append number 10 to deque"
      ]
    },
    {
      "cell_type": "code",
      "metadata": {
        "ExecuteTime": {
          "end_time": "2020-04-23T12:46:26.406289Z",
          "start_time": "2020-04-23T12:46:26.397483Z"
        },
        "id": "mw92BcLHozlD",
        "outputId": "93f0f913-983a-4b4f-cb01-0435d6fde26e",
        "colab": {
          "base_uri": "https://localhost:8080/"
        }
      },
      "source": [
        "deq.append(10)\n",
        "deq"
      ],
      "execution_count": 38,
      "outputs": [
        {
          "output_type": "execute_result",
          "data": {
            "text/plain": [
              "deque(['b',\n",
              "       'l',\n",
              "       'a',\n",
              "       'c',\n",
              "       'k',\n",
              "       ' ',\n",
              "       'c',\n",
              "       'a',\n",
              "       't',\n",
              "       ' ',\n",
              "       'j',\n",
              "       'u',\n",
              "       'm',\n",
              "       'p',\n",
              "       'e',\n",
              "       'd',\n",
              "       ' ',\n",
              "       'o',\n",
              "       'v',\n",
              "       'e',\n",
              "       'r',\n",
              "       ' ',\n",
              "       'w',\n",
              "       'h',\n",
              "       'i',\n",
              "       't',\n",
              "       'e',\n",
              "       ' ',\n",
              "       'c',\n",
              "       'a',\n",
              "       't',\n",
              "       10])"
            ]
          },
          "metadata": {},
          "execution_count": 38
        }
      ]
    },
    {
      "cell_type": "markdown",
      "metadata": {
        "id": "GMHEvy5lozlD"
      },
      "source": [
        "* remove element from the right end from deque"
      ]
    },
    {
      "cell_type": "code",
      "metadata": {
        "ExecuteTime": {
          "end_time": "2020-04-23T12:46:26.788077Z",
          "start_time": "2020-04-23T12:46:26.776926Z"
        },
        "id": "jfM8uBImozlE",
        "outputId": "e4ffdd87-0ba0-420d-d937-c1f0b1256c4e",
        "colab": {
          "base_uri": "https://localhost:8080/"
        }
      },
      "source": [
        "deq.pop()\n",
        "deq"
      ],
      "execution_count": 39,
      "outputs": [
        {
          "output_type": "execute_result",
          "data": {
            "text/plain": [
              "deque(['b',\n",
              "       'l',\n",
              "       'a',\n",
              "       'c',\n",
              "       'k',\n",
              "       ' ',\n",
              "       'c',\n",
              "       'a',\n",
              "       't',\n",
              "       ' ',\n",
              "       'j',\n",
              "       'u',\n",
              "       'm',\n",
              "       'p',\n",
              "       'e',\n",
              "       'd',\n",
              "       ' ',\n",
              "       'o',\n",
              "       'v',\n",
              "       'e',\n",
              "       'r',\n",
              "       ' ',\n",
              "       'w',\n",
              "       'h',\n",
              "       'i',\n",
              "       't',\n",
              "       'e',\n",
              "       ' ',\n",
              "       'c',\n",
              "       'a',\n",
              "       't'])"
            ]
          },
          "metadata": {},
          "execution_count": 39
        }
      ]
    },
    {
      "cell_type": "markdown",
      "metadata": {
        "id": "xwThUB9UozlE"
      },
      "source": [
        "* remove element from the left end from deque"
      ]
    },
    {
      "cell_type": "code",
      "metadata": {
        "ExecuteTime": {
          "end_time": "2020-04-23T12:46:27.379076Z",
          "start_time": "2020-04-23T12:46:27.373076Z"
        },
        "id": "EAnmsi-0ozlE",
        "outputId": "87efbdac-80ab-497c-a28d-53ea99ac8707",
        "colab": {
          "base_uri": "https://localhost:8080/"
        }
      },
      "source": [
        "deq.popleft()\n",
        "deq"
      ],
      "execution_count": 40,
      "outputs": [
        {
          "output_type": "execute_result",
          "data": {
            "text/plain": [
              "deque(['l',\n",
              "       'a',\n",
              "       'c',\n",
              "       'k',\n",
              "       ' ',\n",
              "       'c',\n",
              "       'a',\n",
              "       't',\n",
              "       ' ',\n",
              "       'j',\n",
              "       'u',\n",
              "       'm',\n",
              "       'p',\n",
              "       'e',\n",
              "       'd',\n",
              "       ' ',\n",
              "       'o',\n",
              "       'v',\n",
              "       'e',\n",
              "       'r',\n",
              "       ' ',\n",
              "       'w',\n",
              "       'h',\n",
              "       'i',\n",
              "       't',\n",
              "       'e',\n",
              "       ' ',\n",
              "       'c',\n",
              "       'a',\n",
              "       't'])"
            ]
          },
          "metadata": {},
          "execution_count": 40
        }
      ]
    },
    {
      "cell_type": "markdown",
      "metadata": {
        "id": "_X4JmFExozlE"
      },
      "source": [
        "* delete all elements from deque"
      ]
    },
    {
      "cell_type": "code",
      "metadata": {
        "ExecuteTime": {
          "end_time": "2020-04-23T12:46:27.788235Z",
          "start_time": "2020-04-23T12:46:27.778162Z"
        },
        "id": "p9Yd_gKHozlE",
        "outputId": "8469650d-0ec9-473a-e286-31494d71161e",
        "colab": {
          "base_uri": "https://localhost:8080/"
        }
      },
      "source": [
        "deq.clear()\n",
        "deq"
      ],
      "execution_count": 41,
      "outputs": [
        {
          "output_type": "execute_result",
          "data": {
            "text/plain": [
              "deque([])"
            ]
          },
          "metadata": {},
          "execution_count": 41
        }
      ]
    },
    {
      "cell_type": "markdown",
      "metadata": {
        "id": "X8OC6nm7ozlE"
      },
      "source": [
        "* create named tuple (people) with name and surname as position names"
      ]
    },
    {
      "cell_type": "code",
      "metadata": {
        "ExecuteTime": {
          "end_time": "2020-04-23T12:46:28.173030Z",
          "start_time": "2020-04-23T12:46:28.165072Z"
        },
        "id": "EswuHcw9ozlF",
        "outputId": "4c690595-1cc3-4c12-80c2-830bb9309dc1",
        "colab": {
          "base_uri": "https://localhost:8080/"
        }
      },
      "source": [
        "from collections import namedtuple\n",
        "\n",
        "student = namedtuple(\"student\", \"First, Last\")\n",
        "s1 = student(\"J\", \"B\")\n",
        "s1"
      ],
      "execution_count": 51,
      "outputs": [
        {
          "output_type": "execute_result",
          "data": {
            "text/plain": [
              "student(First='J', Last='B')"
            ]
          },
          "metadata": {},
          "execution_count": 51
        }
      ]
    },
    {
      "cell_type": "markdown",
      "metadata": {
        "id": "GKDOT7WMozlF"
      },
      "source": [
        "* print name and surname"
      ]
    },
    {
      "cell_type": "code",
      "metadata": {
        "id": "1iZiU02FozlF",
        "outputId": "0cccaa53-1def-4916-bb76-5cf4bfb91da7",
        "colab": {
          "base_uri": "https://localhost:8080/"
        }
      },
      "source": [
        "print(s1.First + \" \" + s1.Last)"
      ],
      "execution_count": 50,
      "outputs": [
        {
          "output_type": "stream",
          "name": "stdout",
          "text": [
            "J B\n"
          ]
        }
      ]
    },
    {
      "cell_type": "code",
      "metadata": {
        "ExecuteTime": {
          "end_time": "2020-04-23T12:46:28.538932Z",
          "start_time": "2020-04-23T12:46:28.535095Z"
        },
        "id": "pg10WygOozlF"
      },
      "source": [
        ""
      ],
      "execution_count": null,
      "outputs": []
    },
    {
      "cell_type": "markdown",
      "metadata": {
        "id": "LvEF7qWCozlF"
      },
      "source": [
        "_________________\n",
        "## Exception handling\n",
        "Now, let's practice with **errors and exception handling**\n",
        "\n",
        "* Transform all string elements from a list to upper, if the element is not a string don't transform it.\n",
        "* Use a try & except block without using the 'if' statement."
      ]
    },
    {
      "cell_type": "code",
      "metadata": {
        "ExecuteTime": {
          "end_time": "2020-04-23T12:46:29.120210Z",
          "start_time": "2020-04-23T12:46:29.109343Z"
        },
        "id": "P_NmpoXZozlG",
        "outputId": "650a0dd8-a640-4933-a43b-e25cf6f8576a",
        "colab": {
          "base_uri": "https://localhost:8080/"
        }
      },
      "source": [
        "exception_string = [\"Hello1\", \"1\", \"3\", \"4\", 1]\n",
        "for i in range(len(exception_string)):\n",
        "    try:\n",
        "        exception_string[i] = exception_string[i].upper()\n",
        "    except:\n",
        "        print(\"error happened\")\n",
        "print(exception_string)\n",
        "\n"
      ],
      "execution_count": 54,
      "outputs": [
        {
          "output_type": "stream",
          "name": "stdout",
          "text": [
            "error happened\n",
            "['HELLO1', '1', '3', '4', 1]\n"
          ]
        }
      ]
    },
    {
      "cell_type": "code",
      "metadata": {
        "id": "SlkvO7Z_ozlG"
      },
      "source": [
        ""
      ],
      "execution_count": null,
      "outputs": []
    },
    {
      "cell_type": "code",
      "metadata": {
        "id": "LcohI31OozlG"
      },
      "source": [
        ""
      ],
      "execution_count": null,
      "outputs": []
    },
    {
      "cell_type": "markdown",
      "metadata": {
        "id": "YvbtpJJaozlG"
      },
      "source": [
        "### We have created a function below:\n",
        "\n",
        "Luke Skywalker has family and friends. Help him remind himself the type of relation he has with his family and friends. \n",
        "\n",
        "Given a string with a name, return the relation of that person to Luke.\n",
        "\n",
        "**Person --> Relation**\n",
        "- Darth Vader --> father\n",
        "- Leia --> sister\n",
        "- Han --> brother in law\n",
        "- R2D2 --> droid\n",
        "\n",
        "#### Examples\n",
        "\n",
        "> relation_to_luke(\"Darth Vader\") ➞ \"Luke, I am your father.\"\n",
        ">\n",
        "> relation_to_luke(\"Leia\") ➞ \"Luke, I am your sister.\"\n",
        ">\n",
        "> relation_to_luke(\"Han\") ➞ \"Luke, I am your brother in law.\""
      ]
    },
    {
      "cell_type": "code",
      "metadata": {
        "id": "fSFv75jlozlG"
      },
      "source": [
        "thedict = {\n",
        "    \"darth vader\": \"father\",\n",
        "    \"leia\": \"sister\",\n",
        "    \"han\": \"The guy who drives the ship\",\n",
        "    \"r2d2\": \"driod\"\n",
        "}\n",
        "def relation_to_luke(name):\n",
        "    try:\n",
        "        print(\"Luke, I am your \" + thedict[name.lower()] + \".\")\n",
        "    except KeyError:\n",
        "        print(\"No relation\")"
      ],
      "execution_count": 61,
      "outputs": []
    },
    {
      "cell_type": "markdown",
      "metadata": {
        "id": "kgz0D5buozlG"
      },
      "source": [
        "#### Task I\n",
        "Fix errors in the function above so we can run following code"
      ]
    },
    {
      "cell_type": "code",
      "metadata": {
        "id": "Arcq_IVAozlH",
        "outputId": "a1b2cd88-a56e-4e60-ae98-9a05f3a89de9",
        "colab": {
          "base_uri": "https://localhost:8080/"
        }
      },
      "source": [
        "relation_to_luke(\"Darth Vader\")\n",
        "relation_to_luke(\"Leia\")\n",
        "relation_to_luke(\"Han\")\n",
        "relation_to_luke(\"R2D2\")"
      ],
      "execution_count": 60,
      "outputs": [
        {
          "output_type": "stream",
          "name": "stdout",
          "text": [
            "Luke, I am your father.\n",
            "Luke, I am your sister.\n",
            "Luke, I am your lover.\n",
            "Luke, I am your driod.\n"
          ]
        }
      ]
    },
    {
      "cell_type": "code",
      "metadata": {
        "id": "mD6R1gsSozlH"
      },
      "source": [
        "relation_to_luke(\"aaaa\")"
      ],
      "execution_count": null,
      "outputs": []
    },
    {
      "cell_type": "markdown",
      "metadata": {
        "id": "SuLujZ4eozlH"
      },
      "source": [
        "#### Task II\n",
        "Use exception handling so we can run the function with any string. In this case, the function will return following:\n",
        "\n",
        "**relation_to_luke(\"aaaa\") ➞ \"aaaa is not in the relation with Luke\"**\n",
        "\n",
        "**Note:** Do **Not** use an **if** statement for this"
      ]
    },
    {
      "cell_type": "code",
      "metadata": {
        "id": "qK-_FvUYozlH",
        "outputId": "b44bc03f-88d7-49d8-8a69-990e7b4870b4",
        "colab": {
          "base_uri": "https://localhost:8080/"
        }
      },
      "source": [
        "relation_to_luke(\"aaaa\")"
      ],
      "execution_count": 62,
      "outputs": [
        {
          "output_type": "stream",
          "name": "stdout",
          "text": [
            "No relation\n"
          ]
        }
      ]
    }
  ]
}