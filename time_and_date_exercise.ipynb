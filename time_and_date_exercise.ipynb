{
  "nbformat": 4,
  "nbformat_minor": 0,
  "metadata": {
    "kernelspec": {
      "display_name": "Python 3",
      "language": "python",
      "name": "python3"
    },
    "language_info": {
      "codemirror_mode": {
        "name": "ipython",
        "version": 3
      },
      "file_extension": ".py",
      "mimetype": "text/x-python",
      "name": "python",
      "nbconvert_exporter": "python",
      "pygments_lexer": "ipython3",
      "version": "3.7.9"
    },
    "toc": {
      "base_numbering": 1,
      "nav_menu": {},
      "number_sections": true,
      "sideBar": true,
      "skip_h1_title": false,
      "title_cell": "Table of Contents",
      "title_sidebar": "Contents",
      "toc_cell": false,
      "toc_position": {},
      "toc_section_display": true,
      "toc_window_display": false
    },
    "varInspector": {
      "cols": {
        "lenName": 16,
        "lenType": 16,
        "lenVar": 40
      },
      "kernels_config": {
        "python": {
          "delete_cmd_postfix": "",
          "delete_cmd_prefix": "del ",
          "library": "var_list.py",
          "varRefreshCmd": "print(var_dic_list())"
        },
        "r": {
          "delete_cmd_postfix": ") ",
          "delete_cmd_prefix": "rm(",
          "library": "var_list.r",
          "varRefreshCmd": "cat(var_dic_list()) "
        }
      },
      "types_to_exclude": [
        "module",
        "function",
        "builtin_function_or_method",
        "instance",
        "_Feature"
      ],
      "window_display": false
    },
    "colab": {
      "name": "time_and_date_exercise-checkpoint.ipynb",
      "provenance": []
    }
  },
  "cells": [
    {
      "cell_type": "markdown",
      "metadata": {
        "id": "J1Sncyy4Eos0"
      },
      "source": [
        "# Time & Date Exercise"
      ]
    },
    {
      "cell_type": "code",
      "metadata": {
        "ExecuteTime": {
          "end_time": "2020-04-23T12:59:43.427172Z",
          "start_time": "2020-04-23T12:59:43.421241Z"
        },
        "id": "Id2p0g2iEos2"
      },
      "source": [
        "from datetime import datetime\n"
      ],
      "execution_count": 4,
      "outputs": []
    },
    {
      "cell_type": "markdown",
      "metadata": {
        "ExecuteTime": {
          "end_time": "2020-04-23T12:52:58.201151Z",
          "start_time": "2020-04-23T12:52:58.193651Z"
        },
        "id": "uJZa_ssBEos3"
      },
      "source": [
        "**print:**\n",
        "1.  Current date and time\n",
        "2.  Current year\n",
        "3.  Month of year\n",
        "4.  Week number of the year\n",
        "5.  Weekday of the week\n",
        "6.  Day of year\n",
        "7.  Day of the month\n",
        "8.  Day of week"
      ]
    },
    {
      "cell_type": "code",
      "metadata": {
        "ExecuteTime": {
          "end_time": "2020-04-23T12:53:26.216074Z",
          "start_time": "2020-04-23T12:53:26.206960Z"
        },
        "id": "8J2js39iEos3",
        "outputId": "9ce835c1-f28d-4234-b22c-3a75026b2781",
        "colab": {
          "base_uri": "https://localhost:8080/"
        }
      },
      "source": [
        "datetime_object = datetime.now()\n",
        "print(datetime_object) # current date and time\n",
        "print(datetime_object.year) # year\n",
        "print(datetime_object.month) # month\n",
        "print(datetime_object.isocalendar()[1]) # week of the year\n",
        "print(datetime_object.weekday()) # weekday of the week\n",
        "print(datetime_object.strftime(\"%j\")) # day of the year\n",
        "print(datetime_object.strftime(\"%d\")) # day of the month\n",
        "print(datetime_object.strftime(\"%w\")) # day of the week"
      ],
      "execution_count": 5,
      "outputs": [
        {
          "output_type": "stream",
          "name": "stdout",
          "text": [
            "2021-10-13 05:15:23.088354\n",
            "2021\n",
            "10\n",
            "41\n",
            "2\n",
            "286\n",
            "13\n",
            "3\n"
          ]
        }
      ]
    },
    {
      "cell_type": "markdown",
      "metadata": {
        "id": "tdb81hoKEos3"
      },
      "source": [
        "* convert a string to datetime\n",
        "* **string** = *'Jan 1 2014 2:43PM'*"
      ]
    },
    {
      "cell_type": "code",
      "metadata": {
        "ExecuteTime": {
          "end_time": "2020-04-23T12:53:52.241615Z",
          "start_time": "2020-04-23T12:53:52.231428Z"
        },
        "id": "fsK_5iCnEos4",
        "outputId": "4aec57f0-5c14-4370-b8ae-2720de53df3a",
        "colab": {
          "base_uri": "https://localhost:8080/",
          "height": 34
        }
      },
      "source": [
        "dt_string = \"01/01/2014 14:43:00\"\n",
        "dt_object1 = datetime.strptime(dt_string, \"%d/%m/%Y %H:%M:%S\")\n",
        "dt_object1.strftime(\"%c\")"
      ],
      "execution_count": 6,
      "outputs": [
        {
          "output_type": "execute_result",
          "data": {
            "application/vnd.google.colaboratory.intrinsic+json": {
              "type": "string"
            },
            "text/plain": [
              "'Wed Jan  1 14:43:00 2014'"
            ]
          },
          "metadata": {},
          "execution_count": 6
        }
      ]
    },
    {
      "cell_type": "markdown",
      "metadata": {
        "id": "FmthFDDwEos4"
      },
      "source": [
        "* print the current time "
      ]
    },
    {
      "cell_type": "code",
      "metadata": {
        "ExecuteTime": {
          "end_time": "2020-03-11T18:16:28.915595Z",
          "start_time": "2020-03-11T18:16:28.909658Z"
        },
        "id": "LYMNqTiLEos4",
        "outputId": "4cf3b182-1bdb-4796-9fd5-845c286d56ae",
        "colab": {
          "base_uri": "https://localhost:8080/",
          "height": 34
        }
      },
      "source": [
        "datetime.now().strftime(\"%H:%M:%S\")\n"
      ],
      "execution_count": 7,
      "outputs": [
        {
          "output_type": "execute_result",
          "data": {
            "application/vnd.google.colaboratory.intrinsic+json": {
              "type": "string"
            },
            "text/plain": [
              "'05:16:06'"
            ]
          },
          "metadata": {},
          "execution_count": 7
        }
      ]
    },
    {
      "cell_type": "markdown",
      "metadata": {
        "id": "OKd1uTfGEos4"
      },
      "source": [
        "* subtract five days from current date"
      ]
    },
    {
      "cell_type": "code",
      "metadata": {
        "ExecuteTime": {
          "end_time": "2020-04-23T12:54:56.116690Z",
          "start_time": "2020-04-23T12:54:56.111293Z"
        },
        "id": "7-zZ0VdzEos4",
        "outputId": "5f35fd9a-bfff-427a-e533-22dc9108a440",
        "colab": {
          "base_uri": "https://localhost:8080/",
          "height": 34
        }
      },
      "source": [
        "from datetime import timedelta\n",
        "now = datetime.now()\n",
        "five_days_ago = now - timedelta(days = 5)\n",
        "five_days_ago.strftime(\"%c\")"
      ],
      "execution_count": 8,
      "outputs": [
        {
          "output_type": "execute_result",
          "data": {
            "application/vnd.google.colaboratory.intrinsic+json": {
              "type": "string"
            },
            "text/plain": [
              "'Fri Oct  8 05:16:24 2021'"
            ]
          },
          "metadata": {},
          "execution_count": 8
        }
      ]
    },
    {
      "cell_type": "markdown",
      "metadata": {
        "ExecuteTime": {
          "end_time": "2020-04-23T12:55:10.916163Z",
          "start_time": "2020-04-23T12:55:10.910245Z"
        },
        "id": "wej86AP4Eos4"
      },
      "source": [
        "* convert unix timestamp string to readable date\n",
        "* **unix** = *1284105682*"
      ]
    },
    {
      "cell_type": "code",
      "metadata": {
        "ExecuteTime": {
          "end_time": "2020-03-11T18:19:02.952818Z",
          "start_time": "2020-03-11T18:19:02.946930Z"
        },
        "id": "uLOffkyiEos4",
        "outputId": "0148e424-13dc-488e-efb0-a367ea618388",
        "colab": {
          "base_uri": "https://localhost:8080/",
          "height": 34
        }
      },
      "source": [
        "\n",
        "unix = 1284105682\n",
        "dt_object = datetime.fromtimestamp(unix)\n",
        "dt_object.strftime(\"%c\")"
      ],
      "execution_count": 9,
      "outputs": [
        {
          "output_type": "execute_result",
          "data": {
            "application/vnd.google.colaboratory.intrinsic+json": {
              "type": "string"
            },
            "text/plain": [
              "'Fri Sep 10 08:01:22 2010'"
            ]
          },
          "metadata": {},
          "execution_count": 9
        }
      ]
    },
    {
      "cell_type": "markdown",
      "metadata": {
        "ExecuteTime": {
          "end_time": "2020-04-23T12:56:00.886007Z",
          "start_time": "2020-04-23T12:56:00.878697Z"
        },
        "id": "RKh02OqrEos4"
      },
      "source": [
        "* convert today's date to Day of Year"
      ]
    },
    {
      "cell_type": "code",
      "metadata": {
        "ExecuteTime": {
          "end_time": "2020-04-23T12:55:58.575327Z",
          "start_time": "2020-04-23T12:55:58.553895Z"
        },
        "id": "LVaMdF8UEos5",
        "outputId": "7c76486e-9c83-4f3a-c01c-afbd21b4ae96",
        "colab": {
          "base_uri": "https://localhost:8080/"
        }
      },
      "source": [
        "print(datetime.now().strftime(\"%j\")) # day of the year\n"
      ],
      "execution_count": 10,
      "outputs": [
        {
          "output_type": "stream",
          "name": "stdout",
          "text": [
            "286\n"
          ]
        }
      ]
    },
    {
      "cell_type": "markdown",
      "metadata": {
        "id": "y7ns8pJgEos5"
      },
      "source": [
        "* get week number from today's date"
      ]
    },
    {
      "cell_type": "code",
      "metadata": {
        "ExecuteTime": {
          "end_time": "2020-04-23T12:56:28.577424Z",
          "start_time": "2020-04-23T12:56:28.572138Z"
        },
        "id": "otfgLbynEos5",
        "outputId": "ba1809e0-7bc8-43b1-af3c-51f2495b7260",
        "colab": {
          "base_uri": "https://localhost:8080/"
        }
      },
      "source": [
        "print(datetime.now().isocalendar()[1]) # week of the year\n"
      ],
      "execution_count": 11,
      "outputs": [
        {
          "output_type": "stream",
          "name": "stdout",
          "text": [
            "41\n"
          ]
        }
      ]
    },
    {
      "cell_type": "markdown",
      "metadata": {
        "ExecuteTime": {
          "end_time": "2020-04-23T12:56:43.939475Z",
          "start_time": "2020-04-23T12:56:43.932915Z"
        },
        "id": "1FMhLrBkEos5"
      },
      "source": [
        "* get the number of days between the two dates"
      ]
    },
    {
      "cell_type": "code",
      "metadata": {
        "ExecuteTime": {
          "end_time": "2020-04-23T12:59:47.672905Z",
          "start_time": "2020-04-23T12:59:47.667373Z"
        },
        "id": "bXQ0kfRIEos5",
        "outputId": "343a7c65-a986-4430-a50d-20ea94f6c8a8",
        "colab": {
          "base_uri": "https://localhost:8080/"
        }
      },
      "source": [
        "from datetime import date\n",
        "date_a = date(2020,2,2)\n",
        "date_b = date(2020,1,1)\n",
        "\n",
        "delta_days = date_b - date_a\n",
        "delta_days"
      ],
      "execution_count": 13,
      "outputs": [
        {
          "output_type": "execute_result",
          "data": {
            "text/plain": [
              "datetime.timedelta(days=-32)"
            ]
          },
          "metadata": {},
          "execution_count": 13
        }
      ]
    },
    {
      "cell_type": "markdown",
      "metadata": {
        "id": "NZ0M20KjEos5"
      },
      "source": [
        "* get the number of days of the given month and year"
      ]
    },
    {
      "cell_type": "code",
      "metadata": {
        "ExecuteTime": {
          "end_time": "2020-04-23T12:59:48.516068Z",
          "start_time": "2020-04-23T12:59:48.511765Z"
        },
        "id": "JChvN2_GEos5",
        "outputId": "c95df6e2-28f2-4e31-a86a-0dbec1a5d396",
        "colab": {
          "base_uri": "https://localhost:8080/"
        }
      },
      "source": [
        "month = 10\n",
        "year = 2016\n",
        "# wut 31\n",
        "from calendar import monthrange\n",
        "monthrange(year, month)[1]"
      ],
      "execution_count": 14,
      "outputs": [
        {
          "output_type": "execute_result",
          "data": {
            "text/plain": [
              "31"
            ]
          },
          "metadata": {},
          "execution_count": 14
        }
      ]
    },
    {
      "cell_type": "markdown",
      "metadata": {
        "id": "8wbYe-raEos6"
      },
      "source": [
        "* get a list of dates between the two dates"
      ]
    },
    {
      "cell_type": "code",
      "metadata": {
        "ExecuteTime": {
          "end_time": "2020-04-23T12:59:53.461312Z",
          "start_time": "2020-04-23T12:59:53.456769Z"
        },
        "id": "Kt06DYasEos6",
        "outputId": "c0f9a7ce-fa49-468a-a561-caf296ccb95c",
        "colab": {
          "base_uri": "https://localhost:8080/"
        }
      },
      "source": [
        "start_dt = date(2015, 12, 20)\n",
        "end_dt = date(2016, 1, 11)\n",
        "\n",
        "import numpy as np\n",
        "import pandas as pd\n",
        "date_series = pd.date_range(start_dt, end_dt-timedelta(days=1), freq=\"d\")\n",
        "date_series"
      ],
      "execution_count": 15,
      "outputs": [
        {
          "output_type": "execute_result",
          "data": {
            "text/plain": [
              "DatetimeIndex(['2015-12-20', '2015-12-21', '2015-12-22', '2015-12-23',\n",
              "               '2015-12-24', '2015-12-25', '2015-12-26', '2015-12-27',\n",
              "               '2015-12-28', '2015-12-29', '2015-12-30', '2015-12-31',\n",
              "               '2016-01-01', '2016-01-02', '2016-01-03', '2016-01-04',\n",
              "               '2016-01-05', '2016-01-06', '2016-01-07', '2016-01-08',\n",
              "               '2016-01-09', '2016-01-10'],\n",
              "              dtype='datetime64[ns]', freq='D')"
            ]
          },
          "metadata": {},
          "execution_count": 15
        }
      ]
    },
    {
      "cell_type": "code",
      "metadata": {
        "id": "vn04nrVLEos6"
      },
      "source": [
        ""
      ],
      "execution_count": null,
      "outputs": []
    }
  ]
}